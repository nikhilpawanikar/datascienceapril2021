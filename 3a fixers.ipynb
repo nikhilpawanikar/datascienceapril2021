{
 "cells": [
  {
   "cell_type": "code",
   "execution_count": 1,
   "metadata": {},
   "outputs": [],
   "source": [
    "import string\n",
    "import datetime as dt"
   ]
  },
  {
   "cell_type": "code",
   "execution_count": 3,
   "metadata": {},
   "outputs": [
    {
     "name": "stdout",
     "output_type": "stream",
     "text": [
      "#1 Removing leading or lagging spaces from a data entry\n",
      ">  Data Science with too many spaces is bad!!!     <\n",
      "> Data Science with too many spaces is bad!!! <\n"
     ]
    }
   ],
   "source": [
    "# 1 Removing leading or lagging spaces from a data entry\n",
    "print('#1 Removing leading or lagging spaces from a data entry');\n",
    "baddata = \" Data Science with too many spaces is bad!!!    \"\n",
    "print('>',baddata,'<')\n",
    "cleandata=baddata.strip()\n",
    "print('>',cleandata,'<')"
   ]
  },
  {
   "cell_type": "code",
   "execution_count": 5,
   "metadata": {},
   "outputs": [
    {
     "name": "stdout",
     "output_type": "stream",
     "text": [
      "#1 Removing leading or lagging spaces from a data entry\n",
      ">      Data Science with too many spaces is bad!!!  <\n",
      "> Data Science with too many spaces is bad!!! <\n"
     ]
    }
   ],
   "source": [
    "# 1 Removing leading or lagging spaces from a data entry\n",
    "print('#1 Removing leading or lagging spaces from a data entry');\n",
    "baddata = \"     Data Science with too many spaces is bad!!! \"\n",
    "print('>',baddata,'<')\n",
    "cleandata=baddata.strip()\n",
    "print('>',cleandata,'<')"
   ]
  },
  {
   "cell_type": "code",
   "execution_count": 6,
   "metadata": {},
   "outputs": [
    {
     "name": "stdout",
     "output_type": "stream",
     "text": [
      "#1 Removing leading or lagging spaces from a data entry\n",
      ">      Data Science with too many spaces is bad!!!       <\n",
      "> Data Science with too many spaces is bad!!! <\n"
     ]
    }
   ],
   "source": [
    "# 1 Removing leading or lagging spaces from a data entry\n",
    "print('#1 Removing leading or lagging spaces from a data entry');\n",
    "baddata = \"     Data Science with too many spaces is bad!!!      \"\n",
    "print('>',baddata,'<')\n",
    "cleandata=baddata.strip()\n",
    "print('>',cleandata,'<')"
   ]
  },
  {
   "cell_type": "code",
   "execution_count": 7,
   "metadata": {},
   "outputs": [
    {
     "name": "stdout",
     "output_type": "stream",
     "text": [
      "#1 Removing leading or lagging spaces from a data entry\n",
      ">      Data Science with too many spaces is bad!!!  <\n",
      "> Data Science with too many spaces is bad!!! <\n"
     ]
    }
   ],
   "source": [
    "# 1 Removing leading or lagging spaces from a data entry\n",
    "print('#1 Removing leading or lagging spaces from a data entry');\n",
    "baddata = \"     Data Science with too many spaces is bad!!! \"\n",
    "print('>',baddata,'<')\n",
    "cleandata=baddata.strip()\n",
    "print('>',cleandata,'<')"
   ]
  },
  {
   "cell_type": "code",
   "execution_count": 11,
   "metadata": {},
   "outputs": [
    {
     "name": "stdout",
     "output_type": "stream",
     "text": [
      "# 3 Reformatting data entry to match specific formatting criteria.\n",
      "2019-10-31 00:00:00\n",
      "2019-10-31 00:00:00\n",
      "Bad Data :  2019-10-31\n",
      "Good Data :  31 October 2019\n"
     ]
    }
   ],
   "source": [
    "# Convert YYYY/MM/DD to DD Month YYYY\n",
    "print('# 3 Reformatting data entry to match specific formatting criteria.')\n",
    "baddate = dt.date(2019, 10, 31)\n",
    "baddata=format(baddate,'%Y-%m-%d')\n",
    "baddata\n",
    "gooddate = dt.datetime.strptime(baddata,'%Y-%m-%d')\n",
    "print(gooddate)\n",
    "gooddata=format(gooddate,'%d %B %Y')\n",
    "print(gooddate)\n",
    "print('Bad Data : ',baddata)\n",
    "print('Good Data : ',gooddata)"
   ]
  },
  {
   "cell_type": "code",
   "execution_count": null,
   "metadata": {},
   "outputs": [],
   "source": []
  }
 ],
 "metadata": {
  "kernelspec": {
   "display_name": "Python 3",
   "language": "python",
   "name": "python3"
  },
  "language_info": {
   "codemirror_mode": {
    "name": "ipython",
    "version": 3
   },
   "file_extension": ".py",
   "mimetype": "text/x-python",
   "name": "python",
   "nbconvert_exporter": "python",
   "pygments_lexer": "ipython3",
   "version": "3.7.3"
  }
 },
 "nbformat": 4,
 "nbformat_minor": 2
}
